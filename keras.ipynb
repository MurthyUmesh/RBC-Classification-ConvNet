{
 "cells": [
  {
   "cell_type": "code",
   "execution_count": 1,
   "metadata": {
    "collapsed": false
   },
   "outputs": [
    {
     "name": "stderr",
     "output_type": "stream",
     "text": [
      "/home/Devansh/anaconda2/lib/python2.7/site-packages/theano/tensor/signal/downsample.py:6: UserWarning: downsample module has been moved to the theano.tensor.signal.pool module.\n",
      "  \"downsample module has been moved to the theano.tensor.signal.pool module.\")\n"
     ]
    }
   ],
   "source": [
    "from __future__ import print_function\n",
    "\n",
    "import lasagne\n",
    "import theano\n",
    "import theano.tensor as T\n",
    "import os\n",
    "import time\n",
    "import plac\n",
    "import numpy as np\n",
    "import pandas as pd\n",
    "import pickle\n",
    "import hickle\n",
    "import sklearn.cross_validation\n",
    "from sklearn.preprocessing import OneHotEncoder\n",
    "import skimage.transform\n",
    "import matplotlib.pyplot as plt"
   ]
  },
  {
   "cell_type": "code",
   "execution_count": 2,
   "metadata": {
    "collapsed": true
   },
   "outputs": [],
   "source": [
    "CW_DIR = os.getcwd()\n",
    "DATA_DIR = CW_DIR + '/data/'\n",
    "OUTPUT_DIR = CW_DIR + '/output/'\n",
    "\n",
    "RANDOM_SEED = 42\n",
    "\n",
    "NUM_CLASSES = 10\n",
    "IMAGE_W = 70\n",
    "NUM_CHANNELS = 3\n",
    "\n",
    "NUM_EPOCHS = 250\n",
    "BATCH_SIZE = 32\n",
    "LEARNING_RATE = 0.0001\n",
    "MOMENTUM = 0.9\n",
    "\n",
    "np.random.seed(RANDOM_SEED)"
   ]
  },
  {
   "cell_type": "code",
   "execution_count": 3,
   "metadata": {
    "collapsed": true
   },
   "outputs": [],
   "source": [
    "def get_data_sampler(dataset, train):\n",
    "\n",
    "    # load in hickle dataset containing cell label dataset\n",
    "    d = hickle.load('{}/{}.hkl'.format(DATA_DIR, dataset))\n",
    "\n",
    "    GROUPS = {\n",
    "        'NORMAL': 0,\n",
    "        'Echinocyte': 1,\n",
    "        'Dacrocyte': 2,\n",
    "        'Schistocyte': 3,\n",
    "        'Elliptocyte': 4,\n",
    "        'Acanthocyte': 5,\n",
    "        'Target cell': 6,\n",
    "        'Stomatocyte': 7,\n",
    "        'Spherocyte': 8,\n",
    "        'Overlap' : 9\n",
    "    }\n",
    "\n",
    "    labels = []\n",
    "    images = []\n",
    "    for y, x in zip(d['y'], d['X']):\n",
    "        labels.append(GROUPS[y])\n",
    "        images.append(x)\n",
    "    labels = np.array(labels)\n",
    "    images = np.array(images)\n",
    "\n",
    "    sss = sklearn.cross_validation.StratifiedShuffleSplit(\n",
    "        labels,\n",
    "        n_iter=1,\n",
    "        test_size=0.2,\n",
    "        random_state=RANDOM_SEED,\n",
    "    )\n",
    "    if train:\n",
    "        ix, _ = tuple(sss)[0]\n",
    "    else:\n",
    "        _, ix = tuple(sss)[0]\n",
    "\n",
    "    labels = labels[ix]\n",
    "    images = images[ix]\n",
    "\n",
    "    return images, labels"
   ]
  },
  {
   "cell_type": "code",
   "execution_count": 4,
   "metadata": {
    "collapsed": false
   },
   "outputs": [],
   "source": [
    "train_images, train_labels = get_data_sampler(\"September_1_total_non_overlap\", train=True)"
   ]
  },
  {
   "cell_type": "code",
   "execution_count": 5,
   "metadata": {
    "collapsed": false
   },
   "outputs": [
    {
     "data": {
      "text/plain": [
       "array([ 0.,  0.,  0.,  0.,  0.,  0.,  0.,  0.,  1.,  0.])"
      ]
     },
     "execution_count": 5,
     "metadata": {},
     "output_type": "execute_result"
    }
   ],
   "source": [
    "train_images = train_images.transpose((0,3,1,2))\n",
    "enc = OneHotEncoder()\n",
    "enc.fit(train_labels[:,None])\n",
    "train_labels2=enc.transform(train_labels[:,None]).toarray()\n",
    "train_images.shape\n",
    "train_labels2[0]"
   ]
  },
  {
   "cell_type": "code",
   "execution_count": 6,
   "metadata": {
    "collapsed": false
   },
   "outputs": [
    {
     "name": "stderr",
     "output_type": "stream",
     "text": [
      "Using Theano backend.\n"
     ]
    }
   ],
   "source": [
    "from keras.callbacks import EarlyStopping\n",
    "from keras.models import Sequential\n",
    "from keras.layers import Dense, Dropout, Activation, Flatten\n",
    "from keras.layers import Convolution2D, MaxPooling2D\n",
    "from keras.optimizers import SGD\n",
    "from keras import backend as K"
   ]
  },
  {
   "cell_type": "code",
   "execution_count": 10,
   "metadata": {
    "collapsed": false
   },
   "outputs": [
    {
     "name": "stdout",
     "output_type": "stream",
     "text": [
      "Train on 2690 samples, validate on 299 samples\n",
      "Epoch 1/30\n",
      "2690/2690 [==============================] - 103s - loss: 2.7018 - acc: 0.2249 - categorical_accuracy: 0.2249 - mean_squared_error: 0.0914 - val_loss: 2.1494 - val_acc: 0.2542 - val_categorical_accuracy: 0.2542 - val_mean_squared_error: 0.0867\n",
      "Epoch 2/30\n",
      "2690/2690 [==============================] - 102s - loss: 2.0194 - acc: 0.2487 - categorical_accuracy: 0.2487 - mean_squared_error: 0.0842 - val_loss: 2.1713 - val_acc: 0.2441 - val_categorical_accuracy: 0.2441 - val_mean_squared_error: 0.0872\n",
      "Epoch 3/30\n",
      "2690/2690 [==============================] - 102s - loss: 1.9972 - acc: 0.2524 - categorical_accuracy: 0.2524 - mean_squared_error: 0.0836 - val_loss: 2.1717 - val_acc: 0.2542 - val_categorical_accuracy: 0.2542 - val_mean_squared_error: 0.0872\n",
      "Epoch 4/30\n",
      "2690/2690 [==============================] - 102s - loss: 1.9807 - acc: 0.2703 - categorical_accuracy: 0.2703 - mean_squared_error: 0.0830 - val_loss: 2.0940 - val_acc: 0.2542 - val_categorical_accuracy: 0.2542 - val_mean_squared_error: 0.0854\n",
      "Epoch 5/30\n",
      "2690/2690 [==============================] - 101s - loss: 1.9518 - acc: 0.2792 - categorical_accuracy: 0.2792 - mean_squared_error: 0.0821 - val_loss: 2.1170 - val_acc: 0.3813 - val_categorical_accuracy: 0.3813 - val_mean_squared_error: 0.0859\n",
      "Epoch 6/30\n",
      "2690/2690 [==============================] - 102s - loss: 1.9178 - acc: 0.3082 - categorical_accuracy: 0.3082 - mean_squared_error: 0.0809 - val_loss: 2.1677 - val_acc: 0.3344 - val_categorical_accuracy: 0.3344 - val_mean_squared_error: 0.0871\n",
      "Epoch 7/30\n",
      "2690/2690 [==============================] - 102s - loss: 1.8489 - acc: 0.3684 - categorical_accuracy: 0.3684 - mean_squared_error: 0.0780 - val_loss: 1.9088 - val_acc: 0.4615 - val_categorical_accuracy: 0.4615 - val_mean_squared_error: 0.0796\n",
      "Epoch 8/30\n",
      "2690/2690 [==============================] - 102s - loss: 1.7930 - acc: 0.4126 - categorical_accuracy: 0.4126 - mean_squared_error: 0.0752 - val_loss: 1.8302 - val_acc: 0.4214 - val_categorical_accuracy: 0.4214 - val_mean_squared_error: 0.0764\n",
      "Epoch 9/30\n",
      "2690/2690 [==============================] - 101s - loss: 1.7130 - acc: 0.4535 - categorical_accuracy: 0.4535 - mean_squared_error: 0.0716 - val_loss: 1.8158 - val_acc: 0.4047 - val_categorical_accuracy: 0.4047 - val_mean_squared_error: 0.0753\n",
      "Epoch 10/30\n",
      "2690/2690 [==============================] - 102s - loss: 1.6304 - acc: 0.4751 - categorical_accuracy: 0.4751 - mean_squared_error: 0.0683 - val_loss: 2.0624 - val_acc: 0.4114 - val_categorical_accuracy: 0.4114 - val_mean_squared_error: 0.0825\n",
      "Epoch 11/30\n",
      "2690/2690 [==============================] - 104s - loss: 1.5868 - acc: 0.5048 - categorical_accuracy: 0.5048 - mean_squared_error: 0.0662 - val_loss: 1.8260 - val_acc: 0.4816 - val_categorical_accuracy: 0.4816 - val_mean_squared_error: 0.0749\n",
      "Epoch 12/30\n",
      "2690/2690 [==============================] - 102s - loss: 1.5502 - acc: 0.5082 - categorical_accuracy: 0.5082 - mean_squared_error: 0.0651 - val_loss: 2.0262 - val_acc: 0.3880 - val_categorical_accuracy: 0.3880 - val_mean_squared_error: 0.0808\n",
      "Epoch 13/30\n",
      "2690/2690 [==============================] - 102s - loss: 1.4889 - acc: 0.5394 - categorical_accuracy: 0.5394 - mean_squared_error: 0.0624 - val_loss: 2.0400 - val_acc: 0.3579 - val_categorical_accuracy: 0.3579 - val_mean_squared_error: 0.0812\n",
      "Epoch 14/30\n",
      "2690/2690 [==============================] - 104s - loss: 1.4350 - acc: 0.5487 - categorical_accuracy: 0.5487 - mean_squared_error: 0.0603 - val_loss: 1.5146 - val_acc: 0.5518 - val_categorical_accuracy: 0.5518 - val_mean_squared_error: 0.0611\n",
      "Epoch 15/30\n",
      "2690/2690 [==============================] - 104s - loss: 1.3889 - acc: 0.5762 - categorical_accuracy: 0.5762 - mean_squared_error: 0.0584 - val_loss: 1.5143 - val_acc: 0.5619 - val_categorical_accuracy: 0.5619 - val_mean_squared_error: 0.0636\n",
      "Epoch 16/30\n",
      "2690/2690 [==============================] - 102s - loss: 1.3507 - acc: 0.5725 - categorical_accuracy: 0.5725 - mean_squared_error: 0.0573 - val_loss: 1.3052 - val_acc: 0.6288 - val_categorical_accuracy: 0.6288 - val_mean_squared_error: 0.0537\n",
      "Epoch 17/30\n",
      "2690/2690 [==============================] - 102s - loss: 1.2964 - acc: 0.6078 - categorical_accuracy: 0.6078 - mean_squared_error: 0.0547 - val_loss: 1.2720 - val_acc: 0.6589 - val_categorical_accuracy: 0.6589 - val_mean_squared_error: 0.0520\n",
      "Epoch 18/30\n",
      "2690/2690 [==============================] - 102s - loss: 1.2853 - acc: 0.6097 - categorical_accuracy: 0.6097 - mean_squared_error: 0.0545 - val_loss: 1.2458 - val_acc: 0.6455 - val_categorical_accuracy: 0.6455 - val_mean_squared_error: 0.0519\n",
      "Epoch 19/30\n",
      "2690/2690 [==============================] - 102s - loss: 1.2285 - acc: 0.6227 - categorical_accuracy: 0.6227 - mean_squared_error: 0.0521 - val_loss: 1.4772 - val_acc: 0.5151 - val_categorical_accuracy: 0.5151 - val_mean_squared_error: 0.0616\n",
      "Epoch 20/30\n",
      "2690/2690 [==============================] - 140s - loss: 1.2075 - acc: 0.6297 - categorical_accuracy: 0.6297 - mean_squared_error: 0.0515 - val_loss: 1.2598 - val_acc: 0.6321 - val_categorical_accuracy: 0.6321 - val_mean_squared_error: 0.0514\n",
      "Epoch 21/30\n",
      "2690/2690 [==============================] - 104s - loss: 1.1663 - acc: 0.6431 - categorical_accuracy: 0.6431 - mean_squared_error: 0.0504 - val_loss: 2.3462 - val_acc: 0.1271 - val_categorical_accuracy: 0.1271 - val_mean_squared_error: 0.0903\n",
      "Epoch 22/30\n",
      "2690/2690 [==============================] - 103s - loss: 1.1827 - acc: 0.6375 - categorical_accuracy: 0.6375 - mean_squared_error: 0.0506 - val_loss: 1.1303 - val_acc: 0.6555 - val_categorical_accuracy: 0.6555 - val_mean_squared_error: 0.0460\n",
      "Epoch 23/30\n",
      "2690/2690 [==============================] - 151s - loss: 1.1189 - acc: 0.6457 - categorical_accuracy: 0.6457 - mean_squared_error: 0.0487 - val_loss: 1.2388 - val_acc: 0.6288 - val_categorical_accuracy: 0.6288 - val_mean_squared_error: 0.0510\n",
      "Epoch 24/30\n",
      "2690/2690 [==============================] - 142s - loss: 1.0732 - acc: 0.6677 - categorical_accuracy: 0.6677 - mean_squared_error: 0.0471 - val_loss: 1.1411 - val_acc: 0.6789 - val_categorical_accuracy: 0.6789 - val_mean_squared_error: 0.0479\n",
      "Epoch 25/30\n",
      "2690/2690 [==============================] - 152s - loss: 1.0674 - acc: 0.6625 - categorical_accuracy: 0.6625 - mean_squared_error: 0.0467 - val_loss: 1.0715 - val_acc: 0.6923 - val_categorical_accuracy: 0.6923 - val_mean_squared_error: 0.0438\n",
      "Epoch 26/30\n",
      "2690/2690 [==============================] - 152s - loss: 1.0311 - acc: 0.6792 - categorical_accuracy: 0.6792 - mean_squared_error: 0.0452 - val_loss: 1.0952 - val_acc: 0.6722 - val_categorical_accuracy: 0.6722 - val_mean_squared_error: 0.0472\n",
      "Epoch 27/30\n",
      "2690/2690 [==============================] - 152s - loss: 1.0207 - acc: 0.6829 - categorical_accuracy: 0.6829 - mean_squared_error: 0.0452 - val_loss: 0.9871 - val_acc: 0.7157 - val_categorical_accuracy: 0.7157 - val_mean_squared_error: 0.0419\n",
      "Epoch 28/30\n",
      "2690/2690 [==============================] - 152s - loss: 1.0011 - acc: 0.6870 - categorical_accuracy: 0.6870 - mean_squared_error: 0.0444 - val_loss: 1.1028 - val_acc: 0.6555 - val_categorical_accuracy: 0.6555 - val_mean_squared_error: 0.0470\n",
      "Epoch 29/30\n",
      "2690/2690 [==============================] - 139s - loss: 0.9688 - acc: 0.6955 - categorical_accuracy: 0.6955 - mean_squared_error: 0.0431 - val_loss: 1.0023 - val_acc: 0.7224 - val_categorical_accuracy: 0.7224 - val_mean_squared_error: 0.0422\n",
      "Epoch 30/30\n",
      "2690/2690 [==============================] - 122s - loss: 0.9510 - acc: 0.7052 - categorical_accuracy: 0.7052 - mean_squared_error: 0.0427 - val_loss: 1.1034 - val_acc: 0.6455 - val_categorical_accuracy: 0.6455 - val_mean_squared_error: 0.0483\n"
     ]
    },
    {
     "data": {
      "text/plain": [
       "<keras.callbacks.History at 0x7fc000d92e10>"
      ]
     },
     "execution_count": 10,
     "metadata": {},
     "output_type": "execute_result"
    }
   ],
   "source": [
    "model = Sequential()\n",
    "# input: 100x100 images with 3 channels -> (3, 100, 100) tensors.\n",
    "# this applies 32 convolution filters of size 3x3 each.\n",
    "K.set_image_dim_ordering('th')\n",
    "\n",
    "model.add(Convolution2D(32, 3, 3, border_mode='valid', input_shape=(3, 70, 70)))\n",
    "model.add(Activation('relu'))\n",
    "model.add(Convolution2D(32, 3, 3))\n",
    "model.add(Activation('relu'))\n",
    "model.add(Convolution2D(32, 3, 3))\n",
    "model.add(Activation('relu'))\n",
    "model.add(MaxPooling2D(pool_size=(3, 3), strides=(2, 2)))\n",
    "model.add(Dropout(0.25))\n",
    "\n",
    "model.add(Convolution2D(64, 3, 3, border_mode='valid', input_shape=(3, 70, 70)))\n",
    "model.add(Activation('relu'))\n",
    "model.add(Convolution2D(64, 3, 3))\n",
    "model.add(Activation('relu'))\n",
    "model.add(Convolution2D(64, 3, 3))\n",
    "model.add(Activation('relu'))\n",
    "model.add(MaxPooling2D(pool_size=(3, 3), strides=(2, 2)))\n",
    "model.add(Dropout(0.25))\n",
    "\n",
    "model.add(Convolution2D(128, 3, 3, border_mode='valid', input_shape=(3, 70, 70)))\n",
    "model.add(Activation('relu'))\n",
    "model.add(Convolution2D(128, 3, 3))\n",
    "model.add(Activation('relu'))\n",
    "model.add(Convolution2D(128, 3, 3))\n",
    "model.add(Activation('relu'))\n",
    "model.add(MaxPooling2D(pool_size=(3, 3), strides=(2, 2)))\n",
    "model.add(Dropout(0.25))\n",
    "\n",
    "model.add(Flatten())\n",
    "# # Note: Keras does automatic shape inference.\n",
    "# model.add(Dense(256))\n",
    "# model.add(Activation('relu'))\n",
    "# model.add(Dropout(0.5))\n",
    "\n",
    "model.add(Dense(10))\n",
    "model.add(Activation('softmax'))\n",
    "\n",
    "sgd = SGD(lr=0.0001, decay=1e-6, momentum=0.9, nesterov=True)\n",
    "earlyStopping=EarlyStopping(monitor='val_loss', patience=0, verbose=0, mode='auto')\n",
    "model.compile(loss='categorical_crossentropy', optimizer=sgd, metrics=['accuracy', 'categorical_accuracy', 'mean_squared_error'])\n",
    "model.fit(train_images, train_labels2, batch_size=32, nb_epoch=30, validation_split=0.1, validation_data=None)\n",
    "# callbacks=[earlyStopping]\n",
    "# model.fit(train_images, train_labels2, batch_size=32, nb_epoch=250)"
   ]
  },
  {
   "cell_type": "code",
   "execution_count": 18,
   "metadata": {
    "collapsed": false
   },
   "outputs": [
    {
     "name": "stdout",
     "output_type": "stream",
     "text": [
      "2989/2989 [==============================] - 37s    \n"
     ]
    },
    {
     "data": {
      "text/html": [
       "<div>\n",
       "<table border=\"1\" class=\"dataframe\">\n",
       "  <thead>\n",
       "    <tr style=\"text-align: right;\">\n",
       "      <th>col_0</th>\n",
       "      <th>0</th>\n",
       "      <th>1</th>\n",
       "      <th>2</th>\n",
       "      <th>3</th>\n",
       "      <th>4</th>\n",
       "      <th>5</th>\n",
       "      <th>6</th>\n",
       "      <th>7</th>\n",
       "      <th>8</th>\n",
       "      <th>9</th>\n",
       "    </tr>\n",
       "    <tr>\n",
       "      <th>row_0</th>\n",
       "      <th></th>\n",
       "      <th></th>\n",
       "      <th></th>\n",
       "      <th></th>\n",
       "      <th></th>\n",
       "      <th></th>\n",
       "      <th></th>\n",
       "      <th></th>\n",
       "      <th></th>\n",
       "      <th></th>\n",
       "    </tr>\n",
       "  </thead>\n",
       "  <tbody>\n",
       "    <tr>\n",
       "      <th>0</th>\n",
       "      <td>759</td>\n",
       "      <td>203</td>\n",
       "      <td>41</td>\n",
       "      <td>28</td>\n",
       "      <td>4</td>\n",
       "      <td>6</td>\n",
       "      <td>4</td>\n",
       "      <td>45</td>\n",
       "      <td>4</td>\n",
       "      <td>19</td>\n",
       "    </tr>\n",
       "    <tr>\n",
       "      <th>1</th>\n",
       "      <td>2</td>\n",
       "      <td>15</td>\n",
       "      <td>1</td>\n",
       "      <td>0</td>\n",
       "      <td>0</td>\n",
       "      <td>0</td>\n",
       "      <td>0</td>\n",
       "      <td>1</td>\n",
       "      <td>0</td>\n",
       "      <td>2</td>\n",
       "    </tr>\n",
       "    <tr>\n",
       "      <th>2</th>\n",
       "      <td>0</td>\n",
       "      <td>0</td>\n",
       "      <td>1</td>\n",
       "      <td>0</td>\n",
       "      <td>0</td>\n",
       "      <td>0</td>\n",
       "      <td>0</td>\n",
       "      <td>0</td>\n",
       "      <td>0</td>\n",
       "      <td>0</td>\n",
       "    </tr>\n",
       "    <tr>\n",
       "      <th>3</th>\n",
       "      <td>26</td>\n",
       "      <td>11</td>\n",
       "      <td>15</td>\n",
       "      <td>515</td>\n",
       "      <td>24</td>\n",
       "      <td>59</td>\n",
       "      <td>8</td>\n",
       "      <td>9</td>\n",
       "      <td>40</td>\n",
       "      <td>6</td>\n",
       "    </tr>\n",
       "    <tr>\n",
       "      <th>4</th>\n",
       "      <td>1</td>\n",
       "      <td>1</td>\n",
       "      <td>1</td>\n",
       "      <td>6</td>\n",
       "      <td>5</td>\n",
       "      <td>1</td>\n",
       "      <td>0</td>\n",
       "      <td>3</td>\n",
       "      <td>0</td>\n",
       "      <td>0</td>\n",
       "    </tr>\n",
       "    <tr>\n",
       "      <th>5</th>\n",
       "      <td>0</td>\n",
       "      <td>0</td>\n",
       "      <td>0</td>\n",
       "      <td>5</td>\n",
       "      <td>0</td>\n",
       "      <td>16</td>\n",
       "      <td>1</td>\n",
       "      <td>0</td>\n",
       "      <td>0</td>\n",
       "      <td>2</td>\n",
       "    </tr>\n",
       "    <tr>\n",
       "      <th>6</th>\n",
       "      <td>18</td>\n",
       "      <td>14</td>\n",
       "      <td>7</td>\n",
       "      <td>36</td>\n",
       "      <td>40</td>\n",
       "      <td>6</td>\n",
       "      <td>568</td>\n",
       "      <td>22</td>\n",
       "      <td>0</td>\n",
       "      <td>18</td>\n",
       "    </tr>\n",
       "    <tr>\n",
       "      <th>7</th>\n",
       "      <td>0</td>\n",
       "      <td>0</td>\n",
       "      <td>0</td>\n",
       "      <td>2</td>\n",
       "      <td>0</td>\n",
       "      <td>2</td>\n",
       "      <td>0</td>\n",
       "      <td>1</td>\n",
       "      <td>0</td>\n",
       "      <td>2</td>\n",
       "    </tr>\n",
       "    <tr>\n",
       "      <th>8</th>\n",
       "      <td>2</td>\n",
       "      <td>6</td>\n",
       "      <td>5</td>\n",
       "      <td>14</td>\n",
       "      <td>0</td>\n",
       "      <td>39</td>\n",
       "      <td>0</td>\n",
       "      <td>2</td>\n",
       "      <td>143</td>\n",
       "      <td>17</td>\n",
       "    </tr>\n",
       "    <tr>\n",
       "      <th>9</th>\n",
       "      <td>1</td>\n",
       "      <td>1</td>\n",
       "      <td>0</td>\n",
       "      <td>1</td>\n",
       "      <td>0</td>\n",
       "      <td>4</td>\n",
       "      <td>0</td>\n",
       "      <td>5</td>\n",
       "      <td>5</td>\n",
       "      <td>118</td>\n",
       "    </tr>\n",
       "  </tbody>\n",
       "</table>\n",
       "</div>"
      ],
      "text/plain": [
       "col_0    0    1   2    3   4   5    6   7    8    9\n",
       "row_0                                              \n",
       "0      759  203  41   28   4   6    4  45    4   19\n",
       "1        2   15   1    0   0   0    0   1    0    2\n",
       "2        0    0   1    0   0   0    0   0    0    0\n",
       "3       26   11  15  515  24  59    8   9   40    6\n",
       "4        1    1   1    6   5   1    0   3    0    0\n",
       "5        0    0   0    5   0  16    1   0    0    2\n",
       "6       18   14   7   36  40   6  568  22    0   18\n",
       "7        0    0   0    2   0   2    0   1    0    2\n",
       "8        2    6   5   14   0  39    0   2  143   17\n",
       "9        1    1   0    1   0   4    0   5    5  118"
      ]
     },
     "execution_count": 18,
     "metadata": {},
     "output_type": "execute_result"
    }
   ],
   "source": [
    "y_hat = model.predict_classes(train_images)\n",
    "pd.crosstab(y_hat, train_labels)"
   ]
  },
  {
   "cell_type": "code",
   "execution_count": null,
   "metadata": {
    "collapsed": true
   },
   "outputs": [],
   "source": []
  }
 ],
 "metadata": {
  "anaconda-cloud": {},
  "kernelspec": {
   "display_name": "Python [py27]",
   "language": "python",
   "name": "Python [py27]"
  },
  "language_info": {
   "codemirror_mode": {
    "name": "ipython",
    "version": 2
   },
   "file_extension": ".py",
   "mimetype": "text/x-python",
   "name": "python",
   "nbconvert_exporter": "python",
   "pygments_lexer": "ipython2",
   "version": "2.7.12"
  }
 },
 "nbformat": 4,
 "nbformat_minor": 1
}
