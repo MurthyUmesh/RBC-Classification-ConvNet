{
 "cells": [
  {
   "cell_type": "code",
   "execution_count": 1,
   "metadata": {
    "collapsed": false
   },
   "outputs": [
    {
     "name": "stderr",
     "output_type": "stream",
     "text": [
      "Using gpu device 0: GeForce GTX TITAN X (CNMeM is disabled, cuDNN 5103)\n",
      "/home/Devansh/anaconda2/lib/python2.7/site-packages/theano/sandbox/cuda/__init__.py:600: UserWarning: Your cuDNN version is more recent than the one Theano officially supports. If you see any problems, try updating Theano or downgrading cuDNN to version 5.\n",
      "  warnings.warn(warn)\n",
      "/home/Devansh/anaconda2/lib/python2.7/site-packages/theano/tensor/signal/downsample.py:6: UserWarning: downsample module has been moved to the theano.tensor.signal.pool module.\n",
      "  \"downsample module has been moved to the theano.tensor.signal.pool module.\")\n"
     ]
    }
   ],
   "source": [
    "%run -n cnn.py"
   ]
  },
  {
   "cell_type": "code",
   "execution_count": 2,
   "metadata": {
    "collapsed": false
   },
   "outputs": [],
   "source": [
    "import sklearn.metrics\n",
    "import pandas as pd\n",
    "import csv"
   ]
  },
  {
   "cell_type": "code",
   "execution_count": 3,
   "metadata": {
    "collapsed": false
   },
   "outputs": [],
   "source": [
    "def get_data(dataset, train):\n",
    "    print 'Loading', dataset\n",
    "    # load in hickle dataset containing cell label dataset\n",
    "    d = hickle.load('{}/{}.hkl'.format(DATA_DIR, dataset))\n",
    "\n",
    "    GROUPS = {\n",
    "        'NORMAL': 0,\n",
    "        'Echinocyte': 1,\n",
    "        'Dacrocyte': 2,\n",
    "        'Schistocyte': 3,\n",
    "        'Elliptocyte': 4,\n",
    "        'Acanthocyte': 5,\n",
    "        'Target cell': 6,\n",
    "        'Stomatocyte': 7,\n",
    "        'Spherocyte': 8,\n",
    "        'Overlap': 9\n",
    "    }\n",
    "    LABELS = {v:k for k, v in GROUPS.items()}\n",
    "    \n",
    "    labels = []\n",
    "    images = []\n",
    "    pk = []\n",
    "    \n",
    "    # z = pk_value\n",
    "    for y, x, z in zip(d['y'], d['X'], d['pk']):\n",
    "        labels.append(GROUPS[y])\n",
    "        images.append(x)\n",
    "        pk.append(z)\n",
    "    labels = np.array(labels)\n",
    "    images = np.array(images)\n",
    "    pk = np.array(pk)\n",
    "\n",
    "    \n",
    "    sss = sklearn.cross_validation.StratifiedShuffleSplit(\n",
    "        labels,\n",
    "        n_iter=1,\n",
    "        test_size=0.2,\n",
    "        random_state=RANDOM_SEED,\n",
    "        )\n",
    "    \n",
    "    # create train set\n",
    "    if train:\n",
    "        ix, _ = tuple(sss)[0]\n",
    "    # create validation set\n",
    "    else:\n",
    "        _, ix = tuple(sss)[0]\n",
    "\n",
    "    labels = labels[ix]\n",
    "    images = images[ix]\n",
    "    pk = pk[ix]\n",
    "    \n",
    "    images = images / 255. - 0.5\n",
    "    images = images.transpose(0, 3, 1, 2)\n",
    "    \n",
    "    for i in range(len(LABELS)):\n",
    "        print '{} - {}: {}'.format(i, LABELS[i], (labels == i).sum())\n",
    "        \n",
    "    return images, labels"
   ]
  },
  {
   "cell_type": "code",
   "execution_count": 4,
   "metadata": {
    "collapsed": true
   },
   "outputs": [],
   "source": [
    "dataset = 'September_1_total_non_overlap'"
   ]
  },
  {
   "cell_type": "code",
   "execution_count": 5,
   "metadata": {
    "collapsed": false
   },
   "outputs": [
    {
     "name": "stdout",
     "output_type": "stream",
     "text": [
      "Layer 0 type: <class 'lasagne.layers.input.InputLayer'> output: (32, 3, 70, 70)\n",
      "Layer 1 type: <class 'lasagne.layers.dnn.Conv2DDNNLayer'> output: (32, 32, 68, 68)\n",
      "Layer 2 type: <class 'lasagne.layers.dnn.Conv2DDNNLayer'> output: (32, 32, 66, 66)\n",
      "Layer 3 type: <class 'lasagne.layers.dnn.Conv2DDNNLayer'> output: (32, 32, 64, 64)\n",
      "Layer 4 type: <class 'lasagne.layers.dnn.MaxPool2DDNNLayer'> output: (32, 32, 31, 31)\n",
      "Layer 5 type: <class 'lasagne.layers.noise.DropoutLayer'> output: (32, 32, 31, 31)\n",
      "Layer 6 type: <class 'lasagne.layers.dnn.Conv2DDNNLayer'> output: (32, 64, 29, 29)\n",
      "Layer 7 type: <class 'lasagne.layers.dnn.Conv2DDNNLayer'> output: (32, 64, 27, 27)\n",
      "Layer 8 type: <class 'lasagne.layers.dnn.Conv2DDNNLayer'> output: (32, 64, 25, 25)\n",
      "Layer 9 type: <class 'lasagne.layers.dnn.MaxPool2DDNNLayer'> output: (32, 64, 12, 12)\n",
      "Layer 10 type: <class 'lasagne.layers.noise.DropoutLayer'> output: (32, 64, 12, 12)\n",
      "Layer 11 type: <class 'lasagne.layers.dnn.Conv2DDNNLayer'> output: (32, 128, 10, 10)\n",
      "Layer 12 type: <class 'lasagne.layers.dnn.Conv2DDNNLayer'> output: (32, 128, 8, 8)\n",
      "Layer 13 type: <class 'lasagne.layers.dnn.Conv2DDNNLayer'> output: (32, 128, 6, 6)\n",
      "Layer 14 type: <class 'lasagne.layers.pool.GlobalPoolLayer'> output: (32, 128)\n",
      "Layer 15 type: <class 'lasagne.layers.noise.DropoutLayer'> output: (32, 128)\n",
      "Layer 16 type: <class 'lasagne.layers.dense.DenseLayer'> output: (32, 10)\n"
     ]
    }
   ],
   "source": [
    "output_layer, samplers = setup(dataset)"
   ]
  },
  {
   "cell_type": "code",
   "execution_count": 6,
   "metadata": {
    "collapsed": false
   },
   "outputs": [],
   "source": [
    "f_pred = get_predictor(output_layer)"
   ]
  },
  {
   "cell_type": "code",
   "execution_count": 7,
   "metadata": {
    "collapsed": true
   },
   "outputs": [],
   "source": [
    "# change this\n",
    "model = './output/models/september_1 epoch 175.pickle' "
   ]
  },
  {
   "cell_type": "code",
   "execution_count": 8,
   "metadata": {
    "collapsed": false
   },
   "outputs": [
    {
     "name": "stdout",
     "output_type": "stream",
     "text": [
      "Dataset stats:\n",
      "Loading September_1_total_non_overlap\n",
      "0 - NORMAL: 203\n",
      "1 - Echinocyte: 63\n",
      "2 - Dacrocyte: 18\n",
      "3 - Schistocyte: 152\n",
      "4 - Elliptocyte: 18\n",
      "5 - Acanthocyte: 33\n",
      "6 - Target cell: 145\n",
      "7 - Stomatocyte: 22\n",
      "8 - Spherocyte: 48\n",
      "9 - Overlap: 46\n",
      "\n",
      "Testing model \"september_1\"\n",
      "Loaded network parameters from ./output/models/september_1 epoch 175.pickle\n",
      "\n",
      "Accuracy:  0.975935828877\n",
      "\n",
      "Confusion matrix:\n",
      "[[203   0   0   0   0   0   0   0   0   0]\n",
      " [  1  62   0   0   0   0   0   0   0   0]\n",
      " [  1   0  13   3   0   0   0   0   1   0]\n",
      " [  0   1   1 146   0   4   0   0   0   0]\n",
      " [  0   0   0   1  17   0   0   0   0   0]\n",
      " [  0   0   0   2   0  31   0   0   0   0]\n",
      " [  0   0   0   0   0   0 145   0   0   0]\n",
      " [  1   0   0   0   0   0   0  21   0   0]\n",
      " [  0   0   0   1   0   0   0   1  46   0]\n",
      " [  0   0   0   0   0   0   0   0   0  46]]\n",
      "\n",
      "Summary classification metrics:\n",
      "             precision    recall  f1-score   support\n",
      "\n",
      "          0       0.99      1.00      0.99       203\n",
      "          1       0.98      0.98      0.98        63\n",
      "          2       0.93      0.72      0.81        18\n",
      "          3       0.95      0.96      0.96       152\n",
      "          4       1.00      0.94      0.97        18\n",
      "          5       0.89      0.94      0.91        33\n",
      "          6       1.00      1.00      1.00       145\n",
      "          7       0.95      0.95      0.95        22\n",
      "          8       0.98      0.96      0.97        48\n",
      "          9       1.00      1.00      1.00        46\n",
      "\n",
      "avg / total       0.98      0.98      0.98       748\n",
      "\n"
     ]
    }
   ],
   "source": [
    "print 'Dataset stats:'\n",
    "X, y = get_data(dataset, train=False)\n",
    "\n",
    "print '\\nTesting model \"{}\"'.format(model.split('/')[-1].split(' ')[0])\n",
    "_ = load_parameters(output_layer, model)\n",
    "p = f_pred(X.astype('float32'))\n",
    "\n",
    "print '\\nAccuracy: ', (p.argmax(1) == y).mean()\n",
    "print '\\nConfusion matrix:\\n', sklearn.metrics.confusion_matrix(y, p.argmax(1))\n",
    "print '\\nSummary classification metrics:\\n', sklearn.metrics.classification_report(y, p.argmax(1))"
   ]
  },
  {
   "cell_type": "code",
   "execution_count": null,
   "metadata": {
    "collapsed": true
   },
   "outputs": [],
   "source": []
  }
 ],
 "metadata": {
  "anaconda-cloud": {},
  "kernelspec": {
   "display_name": "Python [conda root]",
   "language": "python",
   "name": "conda-root-py"
  },
  "language_info": {
   "codemirror_mode": {
    "name": "ipython",
    "version": 2
   },
   "file_extension": ".py",
   "mimetype": "text/x-python",
   "name": "python",
   "nbconvert_exporter": "python",
   "pygments_lexer": "ipython2",
   "version": "2.7.12"
  }
 },
 "nbformat": 4,
 "nbformat_minor": 0
}
